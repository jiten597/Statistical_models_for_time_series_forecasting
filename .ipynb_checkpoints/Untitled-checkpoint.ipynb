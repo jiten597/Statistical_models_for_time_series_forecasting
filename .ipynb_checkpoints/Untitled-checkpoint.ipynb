{
 "cells": [
  {
   "cell_type": "markdown",
   "id": "4a131704",
   "metadata": {},
   "source": [
    "# VERMA and VARMAX model\n",
    "In a situation where we wish to show that two variables varying in time can impact one another, we must use the `vector autoregression model (VAR)`. This model allows for multivariate time series forecasting, unlike the SARIMAX model which is for univariate time series forecasting. `VAR` can also be extended to become a `VARMA` model and a `VARMAX` model."
   ]
  },
  {
   "cell_type": "code",
   "execution_count": null,
   "id": "4d3a3851",
   "metadata": {},
   "outputs": [],
   "source": []
  },
  {
   "cell_type": "code",
   "execution_count": null,
   "id": "3fc6741b",
   "metadata": {},
   "outputs": [],
   "source": []
  },
  {
   "cell_type": "code",
   "execution_count": null,
   "id": "8780adab",
   "metadata": {},
   "outputs": [],
   "source": []
  }
 ],
 "metadata": {
  "kernelspec": {
   "display_name": "Python 3",
   "language": "python",
   "name": "python3"
  },
  "language_info": {
   "codemirror_mode": {
    "name": "ipython",
    "version": 3
   },
   "file_extension": ".py",
   "mimetype": "text/x-python",
   "name": "python",
   "nbconvert_exporter": "python",
   "pygments_lexer": "ipython3",
   "version": "3.6.13"
  }
 },
 "nbformat": 4,
 "nbformat_minor": 5
}
